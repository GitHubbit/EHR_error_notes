{
 "cells": [
  {
   "cell_type": "code",
   "execution_count": 195,
   "metadata": {
    "collapsed": false
   },
   "outputs": [],
   "source": [
    "import numpy as np\n",
    "import pandas as pd\n",
    "import nltk\n",
    "import os\n",
    "from sklearn.feature_extraction.text import TfidfVectorizer\n",
    "from sklearn.feature_extraction.text  import CountVectorizer\n",
    "from sklearn.metrics.pairwise import linear_kernel\n",
    "from sklearn.metrics.pairwise import cosine_similarity"
   ]
  },
  {
   "cell_type": "code",
   "execution_count": 196,
   "metadata": {
    "collapsed": true
   },
   "outputs": [],
   "source": [
    "os.chdir('/Users/klarow/Desktop/ComputationalLabs/Project/Data')"
   ]
  },
  {
   "cell_type": "code",
   "execution_count": 197,
   "metadata": {
    "collapsed": true
   },
   "outputs": [],
   "source": [
    "#pd.set_option('display.max_colwidth', -1)\n",
    "#pd.set_option('display.max_colwidth', 10)"
   ]
  },
  {
   "cell_type": "markdown",
   "metadata": {},
   "source": [
    "##  Combine 3 datasets - does not need to be run again"
   ]
  },
  {
   "cell_type": "code",
   "execution_count": 198,
   "metadata": {
    "collapsed": false
   },
   "outputs": [],
   "source": [
    "data = pd.read_csv(\"step3processed.csv\")"
   ]
  },
  {
   "cell_type": "code",
   "execution_count": 199,
   "metadata": {
    "collapsed": false
   },
   "outputs": [],
   "source": [
    "rawdata = data[:]"
   ]
  },
  {
   "cell_type": "markdown",
   "metadata": {},
   "source": [
    "##  Cosine Similarity"
   ]
  },
  {
   "cell_type": "code",
   "execution_count": 200,
   "metadata": {
    "collapsed": true
   },
   "outputs": [],
   "source": [
    "#Can set parameters for how Tfidf is calculated, update to have a token as 1+ alphanumeric factor and not >1\n",
    "#this way single character words (like I, F for female etc. are included)\n",
    "\n",
    "def getCos(df,passed_dict):\n",
    "    notelist = list(df.TEXT)\n",
    "    rowidlist = list((df.ROW_ID))\n",
    "    if len(notelist) <=1:\n",
    "        passed_dict[rowidlist[0]] = \"Only 1 note\"\n",
    "        return(passed_dict)\n",
    "    tfidf = TfidfVectorizer(analyzer =\"word\", token_pattern='(?u)\\\\b\\\\w+\\\\b')\n",
    "    tfs = tfidf.fit_transform(notelist)\n",
    "    feature_names = tfidf.get_feature_names()\n",
    "    \n",
    "#loop through each note, calculate cosine similarity against it against all others (including self)\n",
    "#to get average, make sure to subtact comparison to itself (1) in numerator (cosine) and denominator (number of notes)\n",
    "#since first using tfidf (produces normalized vectors) can  use linear_kernal (faster) instead of cosine_similarity\n",
    "# did test below as well to make sure same results\n",
    "    counter = 0\n",
    "    for note in tfs:\n",
    "        row_id = rowidlist[counter]\n",
    "        cosine_similarities = linear_kernel(note, tfs).flatten()\n",
    "        avgcos = (cosine_similarities.sum()-1)/(len(cosine_similarities)-1)\n",
    "        passed_dict[row_id] = avgcos\n",
    "        counter +=1\n",
    "    return(passed_dict)"
   ]
  },
  {
   "cell_type": "code",
   "execution_count": 201,
   "metadata": {
    "collapsed": false
   },
   "outputs": [
    {
     "name": "stdout",
     "output_type": "stream",
     "text": [
      "0\n"
     ]
    }
   ],
   "source": [
    "#loop through each patient one at a time\n",
    "#loop through patient's category types\n",
    "# caluclate cosine similarity for patient/category subset of notes and add to categ dict by the rowid\n",
    "#then loop through all the descriptions within category and add to desc dict by rowid\n",
    "cosine_desc_dict = {}\n",
    "cosine_categ_dict = {}\n",
    "count = 0\n",
    "\n",
    "for subj in data.SUBJECT_ID.unique():\n",
    "    if count%100000 == 0:\n",
    "            print(count)\n",
    "    pat_df = data[data.SUBJECT_ID == subj]\n",
    "    for cat in pat_df.CATEGORY.unique():\n",
    "        cat_df = pat_df[pat_df.CATEGORY == cat]\n",
    "        getCos(cat_df,cosine_categ_dict)\n",
    "            \n",
    "        for desc in cat_df.DESCRIPTION.unique():\n",
    "            desc_df = cat_df[cat_df.DESCRIPTION == desc]\n",
    "            getCos(desc_df,cosine_desc_dict)\n",
    "            count+=1\n"
   ]
  },
  {
   "cell_type": "code",
   "execution_count": 202,
   "metadata": {
    "collapsed": false,
    "scrolled": true
   },
   "outputs": [],
   "source": [
    "#append the description cosine similarity for each row\n",
    "data[\"CosDesc\"] = data.ROW_ID.map(cosine_desc_dict)\n",
    "#[cosine_desc_dict[x] for x in data.ROW_ID]"
   ]
  },
  {
   "cell_type": "code",
   "execution_count": 203,
   "metadata": {
    "collapsed": false
   },
   "outputs": [],
   "source": [
    "#append the category cosine similarity for each row\n",
    "data[\"CosCat\"] = data.ROW_ID.map(cosine_categ_dict)\n",
    "#[cosine_categ_dict[x] for x in data.ROW_ID]"
   ]
  },
  {
   "cell_type": "code",
   "execution_count": 204,
   "metadata": {
    "collapsed": false
   },
   "outputs": [],
   "source": [
    "#data.to_csv(\"/Users/klarow/Desktop/ComputationalLabs/Project/Data/cosine_clean.csv\",index = False)"
   ]
  },
  {
   "cell_type": "markdown",
   "metadata": {},
   "source": [
    "## Test Train and Merge with HADM-ID"
   ]
  },
  {
   "cell_type": "code",
   "execution_count": 205,
   "metadata": {
    "collapsed": false
   },
   "outputs": [],
   "source": [
    "addmissions_data = pd.read_csv(\"ADMISSIONS.csv\")"
   ]
  },
  {
   "cell_type": "code",
   "execution_count": 206,
   "metadata": {
    "collapsed": false
   },
   "outputs": [
    {
     "data": {
      "text/plain": [
       "array(['EMERGENCY ROOM ADMIT', 'PHYS REFERRAL/NORMAL DELI',\n",
       "       'TRANSFER FROM HOSP/EXTRAM', 'CLINIC REFERRAL/PREMATURE',\n",
       "       'TRANSFER FROM SKILLED NUR', 'HMO REFERRAL/SICK',\n",
       "       'TRANSFER FROM OTHER HEALT', '** INFO NOT AVAILABLE **',\n",
       "       'TRSF WITHIN THIS FACILITY'], dtype=object)"
      ]
     },
     "execution_count": 206,
     "metadata": {},
     "output_type": "execute_result"
    }
   ],
   "source": [
    "addmissions_data.ADMISSION_LOCATION.unique()"
   ]
  },
  {
   "cell_type": "code",
   "execution_count": 207,
   "metadata": {
    "collapsed": false
   },
   "outputs": [],
   "source": [
    "#subset on columns we want to include in analysis (ie admission type, adm location, insurannce, lang, ethnicity)\n",
    "to_add_hadm = addmissions_data[[2,6,7,8,9,10,11,13]]"
   ]
  },
  {
   "cell_type": "code",
   "execution_count": 208,
   "metadata": {
    "collapsed": false
   },
   "outputs": [
    {
     "data": {
      "text/html": [
       "<div>\n",
       "<table border=\"1\" class=\"dataframe\">\n",
       "  <thead>\n",
       "    <tr style=\"text-align: right;\">\n",
       "      <th></th>\n",
       "      <th>HADM_ID</th>\n",
       "      <th>ADMISSION_TYPE</th>\n",
       "      <th>ADMISSION_LOCATION</th>\n",
       "      <th>DISCHARGE_LOCATION</th>\n",
       "      <th>INSURANCE</th>\n",
       "      <th>LANGUAGE</th>\n",
       "      <th>RELIGION</th>\n",
       "      <th>ETHNICITY</th>\n",
       "    </tr>\n",
       "  </thead>\n",
       "  <tbody>\n",
       "    <tr>\n",
       "      <th>0</th>\n",
       "      <td>165315</td>\n",
       "      <td>EMERGENCY</td>\n",
       "      <td>EMERGENCY ROOM ADMIT</td>\n",
       "      <td>DISC-TRAN CANCER/CHLDRN H</td>\n",
       "      <td>Private</td>\n",
       "      <td>NaN</td>\n",
       "      <td>UNOBTAINABLE</td>\n",
       "      <td>WHITE</td>\n",
       "    </tr>\n",
       "    <tr>\n",
       "      <th>1</th>\n",
       "      <td>152223</td>\n",
       "      <td>ELECTIVE</td>\n",
       "      <td>PHYS REFERRAL/NORMAL DELI</td>\n",
       "      <td>HOME HEALTH CARE</td>\n",
       "      <td>Medicare</td>\n",
       "      <td>NaN</td>\n",
       "      <td>CATHOLIC</td>\n",
       "      <td>WHITE</td>\n",
       "    </tr>\n",
       "    <tr>\n",
       "      <th>2</th>\n",
       "      <td>124321</td>\n",
       "      <td>EMERGENCY</td>\n",
       "      <td>TRANSFER FROM HOSP/EXTRAM</td>\n",
       "      <td>HOME HEALTH CARE</td>\n",
       "      <td>Medicare</td>\n",
       "      <td>ENGL</td>\n",
       "      <td>CATHOLIC</td>\n",
       "      <td>WHITE</td>\n",
       "    </tr>\n",
       "    <tr>\n",
       "      <th>3</th>\n",
       "      <td>161859</td>\n",
       "      <td>EMERGENCY</td>\n",
       "      <td>TRANSFER FROM HOSP/EXTRAM</td>\n",
       "      <td>HOME</td>\n",
       "      <td>Private</td>\n",
       "      <td>NaN</td>\n",
       "      <td>PROTESTANT QUAKER</td>\n",
       "      <td>WHITE</td>\n",
       "    </tr>\n",
       "    <tr>\n",
       "      <th>4</th>\n",
       "      <td>129635</td>\n",
       "      <td>EMERGENCY</td>\n",
       "      <td>EMERGENCY ROOM ADMIT</td>\n",
       "      <td>HOME</td>\n",
       "      <td>Private</td>\n",
       "      <td>NaN</td>\n",
       "      <td>UNOBTAINABLE</td>\n",
       "      <td>WHITE</td>\n",
       "    </tr>\n",
       "  </tbody>\n",
       "</table>\n",
       "</div>"
      ],
      "text/plain": [
       "   HADM_ID ADMISSION_TYPE         ADMISSION_LOCATION  \\\n",
       "0   165315      EMERGENCY       EMERGENCY ROOM ADMIT   \n",
       "1   152223       ELECTIVE  PHYS REFERRAL/NORMAL DELI   \n",
       "2   124321      EMERGENCY  TRANSFER FROM HOSP/EXTRAM   \n",
       "3   161859      EMERGENCY  TRANSFER FROM HOSP/EXTRAM   \n",
       "4   129635      EMERGENCY       EMERGENCY ROOM ADMIT   \n",
       "\n",
       "          DISCHARGE_LOCATION INSURANCE LANGUAGE           RELIGION ETHNICITY  \n",
       "0  DISC-TRAN CANCER/CHLDRN H   Private      NaN       UNOBTAINABLE     WHITE  \n",
       "1           HOME HEALTH CARE  Medicare      NaN           CATHOLIC     WHITE  \n",
       "2           HOME HEALTH CARE  Medicare     ENGL           CATHOLIC     WHITE  \n",
       "3                       HOME   Private      NaN  PROTESTANT QUAKER     WHITE  \n",
       "4                       HOME   Private      NaN       UNOBTAINABLE     WHITE  "
      ]
     },
     "execution_count": 208,
     "metadata": {},
     "output_type": "execute_result"
    }
   ],
   "source": [
    "to_add_hadm.head()"
   ]
  },
  {
   "cell_type": "code",
   "execution_count": 209,
   "metadata": {
    "collapsed": false,
    "scrolled": false
   },
   "outputs": [
    {
     "name": "stderr",
     "output_type": "stream",
     "text": [
      "/Users/klarow/anaconda/lib/python3.5/site-packages/pandas/core/generic.py:3191: SettingWithCopyWarning: \n",
      "A value is trying to be set on a copy of a slice from a DataFrame\n",
      "\n",
      "See the caveats in the documentation: http://pandas.pydata.org/pandas-docs/stable/indexing.html#indexing-view-versus-copy\n",
      "  self._update_inplace(new_data)\n"
     ]
    }
   ],
   "source": [
    "#Assume that missing values are english\n",
    "to_add_hadm.LANGUAGE.fillna(value=\"ENGL\",inplace=True)"
   ]
  },
  {
   "cell_type": "code",
   "execution_count": 210,
   "metadata": {
    "collapsed": false
   },
   "outputs": [
    {
     "data": {
      "text/plain": [
       "81"
      ]
     },
     "execution_count": 210,
     "metadata": {},
     "output_type": "execute_result"
    }
   ],
   "source": [
    "#number of instances with no HADMID\n",
    "len(data[data.HADM_ID.isnull()==True])"
   ]
  },
  {
   "cell_type": "code",
   "execution_count": 211,
   "metadata": {
    "collapsed": true
   },
   "outputs": [],
   "source": [
    "#remove these instances with no hadmid, since so many variables are dependent on matching on it\n",
    "data = data[data.HADM_ID.isnull()==False]"
   ]
  },
  {
   "cell_type": "code",
   "execution_count": 212,
   "metadata": {
    "collapsed": false
   },
   "outputs": [],
   "source": [
    "dfwith_admin = pd.merge(data,to_add_hadm,on = \"HADM_ID\")"
   ]
  },
  {
   "cell_type": "code",
   "execution_count": 213,
   "metadata": {
    "collapsed": false
   },
   "outputs": [],
   "source": [
    "data = dfwith_admin"
   ]
  },
  {
   "cell_type": "markdown",
   "metadata": {},
   "source": [
    "##  Partition Dates by Hours"
   ]
  },
  {
   "cell_type": "code",
   "execution_count": 214,
   "metadata": {
    "collapsed": true
   },
   "outputs": [],
   "source": [
    "#get times from date time\n",
    "ctime1 = data.CHARTTIME.str.split(\" \",expand = True)"
   ]
  },
  {
   "cell_type": "code",
   "execution_count": 215,
   "metadata": {
    "collapsed": false
   },
   "outputs": [],
   "source": [
    "#breakup hour, minutes, seconds (in military time)\n",
    "ctime2 = ctime1[1].str.split(\":\",expand = True)"
   ]
  },
  {
   "cell_type": "code",
   "execution_count": 216,
   "metadata": {
    "collapsed": false
   },
   "outputs": [],
   "source": [
    "#take the hour as the category\n",
    "ctime3 = ctime2[0]"
   ]
  },
  {
   "cell_type": "code",
   "execution_count": 217,
   "metadata": {
    "collapsed": false
   },
   "outputs": [],
   "source": [
    "#create new column with the chart time as category (24 hrs)\n",
    "data[\"CHARTTIMECAT\"] = ctime3"
   ]
  },
  {
   "cell_type": "code",
   "execution_count": 218,
   "metadata": {
    "collapsed": true
   },
   "outputs": [],
   "source": [
    "#repeat steps for store time\n",
    "stime = data.STORETIME.str.split(\" \",expand = True)"
   ]
  },
  {
   "cell_type": "code",
   "execution_count": 219,
   "metadata": {
    "collapsed": true
   },
   "outputs": [],
   "source": [
    "stime2 = stime[1].str.split(\":\", expand = True)"
   ]
  },
  {
   "cell_type": "code",
   "execution_count": 220,
   "metadata": {
    "collapsed": false
   },
   "outputs": [],
   "source": [
    "#stime2[0].unique()"
   ]
  },
  {
   "cell_type": "code",
   "execution_count": 221,
   "metadata": {
    "collapsed": false
   },
   "outputs": [],
   "source": [
    "stime3 = stime2[0]"
   ]
  },
  {
   "cell_type": "code",
   "execution_count": 222,
   "metadata": {
    "collapsed": false
   },
   "outputs": [],
   "source": [
    "data[\"STORETIMECAT\"] = ctime3"
   ]
  },
  {
   "cell_type": "code",
   "execution_count": 223,
   "metadata": {
    "collapsed": false
   },
   "outputs": [
    {
     "data": {
      "text/html": [
       "<div>\n",
       "<table border=\"1\" class=\"dataframe\">\n",
       "  <thead>\n",
       "    <tr style=\"text-align: right;\">\n",
       "      <th></th>\n",
       "      <th>HADM_ID</th>\n",
       "      <th>SUBJECT_ID</th>\n",
       "      <th>CGID</th>\n",
       "      <th>ROW_ID</th>\n",
       "      <th>CHARTDATE</th>\n",
       "      <th>CHARTTIME</th>\n",
       "      <th>STORETIME</th>\n",
       "      <th>CATEGORY</th>\n",
       "      <th>DESCRIPTION</th>\n",
       "      <th>ISERROR</th>\n",
       "      <th>...</th>\n",
       "      <th>CosCat</th>\n",
       "      <th>ADMISSION_TYPE</th>\n",
       "      <th>ADMISSION_LOCATION</th>\n",
       "      <th>DISCHARGE_LOCATION</th>\n",
       "      <th>INSURANCE</th>\n",
       "      <th>LANGUAGE</th>\n",
       "      <th>RELIGION</th>\n",
       "      <th>ETHNICITY</th>\n",
       "      <th>CHARTTIMECAT</th>\n",
       "      <th>STORETIMECAT</th>\n",
       "    </tr>\n",
       "  </thead>\n",
       "  <tbody>\n",
       "    <tr>\n",
       "      <th>0</th>\n",
       "      <td>136468.0</td>\n",
       "      <td>28742</td>\n",
       "      <td>NaN</td>\n",
       "      <td>4417</td>\n",
       "      <td>8/1/43</td>\n",
       "      <td>NaN</td>\n",
       "      <td>NaN</td>\n",
       "      <td>discharg summari</td>\n",
       "      <td>report</td>\n",
       "      <td>NaN</td>\n",
       "      <td>...</td>\n",
       "      <td>0.481639</td>\n",
       "      <td>EMERGENCY</td>\n",
       "      <td>EMERGENCY ROOM ADMIT</td>\n",
       "      <td>HOME HEALTH CARE</td>\n",
       "      <td>Medicare</td>\n",
       "      <td>ENGL</td>\n",
       "      <td>CATHOLIC</td>\n",
       "      <td>WHITE</td>\n",
       "      <td>None</td>\n",
       "      <td>None</td>\n",
       "    </tr>\n",
       "    <tr>\n",
       "      <th>1</th>\n",
       "      <td>136468.0</td>\n",
       "      <td>28742</td>\n",
       "      <td>NaN</td>\n",
       "      <td>130306</td>\n",
       "      <td>7/27/43</td>\n",
       "      <td>NaN</td>\n",
       "      <td>NaN</td>\n",
       "      <td>ecg</td>\n",
       "      <td>report</td>\n",
       "      <td>NaN</td>\n",
       "      <td>...</td>\n",
       "      <td>0.243769</td>\n",
       "      <td>EMERGENCY</td>\n",
       "      <td>EMERGENCY ROOM ADMIT</td>\n",
       "      <td>HOME HEALTH CARE</td>\n",
       "      <td>Medicare</td>\n",
       "      <td>ENGL</td>\n",
       "      <td>CATHOLIC</td>\n",
       "      <td>WHITE</td>\n",
       "      <td>None</td>\n",
       "      <td>None</td>\n",
       "    </tr>\n",
       "    <tr>\n",
       "      <th>2</th>\n",
       "      <td>136468.0</td>\n",
       "      <td>28742</td>\n",
       "      <td>NaN</td>\n",
       "      <td>130307</td>\n",
       "      <td>7/27/43</td>\n",
       "      <td>NaN</td>\n",
       "      <td>NaN</td>\n",
       "      <td>ecg</td>\n",
       "      <td>report</td>\n",
       "      <td>NaN</td>\n",
       "      <td>...</td>\n",
       "      <td>0.132512</td>\n",
       "      <td>EMERGENCY</td>\n",
       "      <td>EMERGENCY ROOM ADMIT</td>\n",
       "      <td>HOME HEALTH CARE</td>\n",
       "      <td>Medicare</td>\n",
       "      <td>ENGL</td>\n",
       "      <td>CATHOLIC</td>\n",
       "      <td>WHITE</td>\n",
       "      <td>None</td>\n",
       "      <td>None</td>\n",
       "    </tr>\n",
       "    <tr>\n",
       "      <th>3</th>\n",
       "      <td>136468.0</td>\n",
       "      <td>28742</td>\n",
       "      <td>NaN</td>\n",
       "      <td>972636</td>\n",
       "      <td>7/27/43</td>\n",
       "      <td>7/27/43 18:38</td>\n",
       "      <td>NaN</td>\n",
       "      <td>radiolog</td>\n",
       "      <td>chest portabl ap</td>\n",
       "      <td>NaN</td>\n",
       "      <td>...</td>\n",
       "      <td>0.121509</td>\n",
       "      <td>EMERGENCY</td>\n",
       "      <td>EMERGENCY ROOM ADMIT</td>\n",
       "      <td>HOME HEALTH CARE</td>\n",
       "      <td>Medicare</td>\n",
       "      <td>ENGL</td>\n",
       "      <td>CATHOLIC</td>\n",
       "      <td>WHITE</td>\n",
       "      <td>18</td>\n",
       "      <td>18</td>\n",
       "    </tr>\n",
       "    <tr>\n",
       "      <th>4</th>\n",
       "      <td>136468.0</td>\n",
       "      <td>28742</td>\n",
       "      <td>14411.0</td>\n",
       "      <td>1636259</td>\n",
       "      <td>7/29/43</td>\n",
       "      <td>7/29/43 2:56</td>\n",
       "      <td>7/29/43 3:08</td>\n",
       "      <td>nursingoth</td>\n",
       "      <td>report</td>\n",
       "      <td>NaN</td>\n",
       "      <td>...</td>\n",
       "      <td>0.23247</td>\n",
       "      <td>EMERGENCY</td>\n",
       "      <td>EMERGENCY ROOM ADMIT</td>\n",
       "      <td>HOME HEALTH CARE</td>\n",
       "      <td>Medicare</td>\n",
       "      <td>ENGL</td>\n",
       "      <td>CATHOLIC</td>\n",
       "      <td>WHITE</td>\n",
       "      <td>2</td>\n",
       "      <td>2</td>\n",
       "    </tr>\n",
       "  </tbody>\n",
       "</table>\n",
       "<p>5 rows × 30 columns</p>\n",
       "</div>"
      ],
      "text/plain": [
       "    HADM_ID  SUBJECT_ID     CGID   ROW_ID CHARTDATE      CHARTTIME  \\\n",
       "0  136468.0       28742      NaN     4417    8/1/43            NaN   \n",
       "1  136468.0       28742      NaN   130306   7/27/43            NaN   \n",
       "2  136468.0       28742      NaN   130307   7/27/43            NaN   \n",
       "3  136468.0       28742      NaN   972636   7/27/43  7/27/43 18:38   \n",
       "4  136468.0       28742  14411.0  1636259   7/29/43   7/29/43 2:56   \n",
       "\n",
       "      STORETIME          CATEGORY       DESCRIPTION  ISERROR     ...       \\\n",
       "0           NaN  discharg summari            report      NaN     ...        \n",
       "1           NaN               ecg            report      NaN     ...        \n",
       "2           NaN               ecg            report      NaN     ...        \n",
       "3           NaN          radiolog  chest portabl ap      NaN     ...        \n",
       "4  7/29/43 3:08        nursingoth            report      NaN     ...        \n",
       "\n",
       "     CosCat ADMISSION_TYPE    ADMISSION_LOCATION DISCHARGE_LOCATION  \\\n",
       "0  0.481639      EMERGENCY  EMERGENCY ROOM ADMIT   HOME HEALTH CARE   \n",
       "1  0.243769      EMERGENCY  EMERGENCY ROOM ADMIT   HOME HEALTH CARE   \n",
       "2  0.132512      EMERGENCY  EMERGENCY ROOM ADMIT   HOME HEALTH CARE   \n",
       "3  0.121509      EMERGENCY  EMERGENCY ROOM ADMIT   HOME HEALTH CARE   \n",
       "4   0.23247      EMERGENCY  EMERGENCY ROOM ADMIT   HOME HEALTH CARE   \n",
       "\n",
       "   INSURANCE LANGUAGE  RELIGION  ETHNICITY  CHARTTIMECAT STORETIMECAT  \n",
       "0   Medicare     ENGL  CATHOLIC      WHITE          None         None  \n",
       "1   Medicare     ENGL  CATHOLIC      WHITE          None         None  \n",
       "2   Medicare     ENGL  CATHOLIC      WHITE          None         None  \n",
       "3   Medicare     ENGL  CATHOLIC      WHITE            18           18  \n",
       "4   Medicare     ENGL  CATHOLIC      WHITE             2            2  \n",
       "\n",
       "[5 rows x 30 columns]"
      ]
     },
     "execution_count": 223,
     "metadata": {},
     "output_type": "execute_result"
    }
   ],
   "source": [
    "data.head()"
   ]
  },
  {
   "cell_type": "markdown",
   "metadata": {},
   "source": [
    "##  Partition  Test/Train  and set all blank iserror to 0"
   ]
  },
  {
   "cell_type": "code",
   "execution_count": 224,
   "metadata": {
    "collapsed": true
   },
   "outputs": [],
   "source": [
    "data.ISERROR.fillna(value = 0,inplace=True)"
   ]
  },
  {
   "cell_type": "code",
   "execution_count": 225,
   "metadata": {
    "collapsed": false
   },
   "outputs": [
    {
     "name": "stderr",
     "output_type": "stream",
     "text": [
      "/Users/klarow/anaconda/lib/python3.5/site-packages/ipykernel/__main__.py:2: SettingWithCopyWarning: \n",
      "A value is trying to be set on a copy of a slice from a DataFrame.\n",
      "Try using .loc[row_indexer,col_indexer] = value instead\n",
      "\n",
      "See the caveats in the documentation: http://pandas.pydata.org/pandas-docs/stable/indexing.html#indexing-view-versus-copy\n",
      "  from ipykernel import kernelapp as app\n",
      "/Users/klarow/anaconda/lib/python3.5/site-packages/ipykernel/__main__.py:5: SettingWithCopyWarning: \n",
      "A value is trying to be set on a copy of a slice from a DataFrame.\n",
      "Try using .loc[row_indexer,col_indexer] = value instead\n",
      "\n",
      "See the caveats in the documentation: http://pandas.pydata.org/pandas-docs/stable/indexing.html#indexing-view-versus-copy\n"
     ]
    }
   ],
   "source": [
    "errortemp = data[data.ISERROR == 1]\n",
    "errortemp[\"Train\"] = np.random.normal(0,1,len(errortemp),) <= .80\n",
    "#errortemp.Train\n",
    "correcttemp = data[data.ISERROR != 1]\n",
    "correcttemp[\"Train\"] = np.random.normal(0,1,len(correcttemp),) <= .80\n",
    "#correcttemp.Train\n",
    "#mr (model ready) dataframe\n",
    "data = pd.concat([correcttemp,errortemp], axis = 0)"
   ]
  },
  {
   "cell_type": "markdown",
   "metadata": {},
   "source": [
    "##  Reduce # Language Categories, combine all those with < 100 notes with subject speaking it"
   ]
  },
  {
   "cell_type": "code",
   "execution_count": 226,
   "metadata": {
    "collapsed": true
   },
   "outputs": [],
   "source": [
    "data[\"OldLanguage\"] = data[\"LANGUAGE\"]"
   ]
  },
  {
   "cell_type": "code",
   "execution_count": 227,
   "metadata": {
    "collapsed": false
   },
   "outputs": [],
   "source": [
    "#data.head()"
   ]
  },
  {
   "cell_type": "code",
   "execution_count": 228,
   "metadata": {
    "collapsed": false
   },
   "outputs": [],
   "source": [
    "#get counts of # people who speak each language\n",
    "language_Df = pd.DataFrame(data.LANGUAGE.value_counts()).reset_index()"
   ]
  },
  {
   "cell_type": "code",
   "execution_count": 229,
   "metadata": {
    "collapsed": false
   },
   "outputs": [],
   "source": [
    "#create dictionary to collapse languages with fewer than 100 people speaking it into an other category\n",
    "lang_dict = {}\n",
    "for each in language_Df[language_Df.LANGUAGE < 100][\"index\"]:\n",
    "    lang_dict[each] = \"Other\""
   ]
  },
  {
   "cell_type": "code",
   "execution_count": 230,
   "metadata": {
    "collapsed": true
   },
   "outputs": [],
   "source": [
    "#keep other languages as is\n",
    "for each in language_Df[language_Df.LANGUAGE >= 100][\"index\"]:\n",
    "    lang_dict[each] = each"
   ]
  },
  {
   "cell_type": "code",
   "execution_count": 231,
   "metadata": {
    "collapsed": false
   },
   "outputs": [],
   "source": [
    "#assign other to those languages with fewer\n",
    "data[\"LANGUAGE\"] = data.LANGUAGE.map(lang_dict)\n"
   ]
  },
  {
   "cell_type": "code",
   "execution_count": 232,
   "metadata": {
    "collapsed": true
   },
   "outputs": [],
   "source": [
    "#columns to drop, not needed for modelling\n",
    "to_drp = [\"CHARTDATE\",\"CHARTTIME\",\"STORETIME\",\"TIMECHARTED\",\"TIMESTORED\"]"
   ]
  },
  {
   "cell_type": "code",
   "execution_count": 233,
   "metadata": {
    "collapsed": false
   },
   "outputs": [],
   "source": [
    "#drop\n",
    "data_clean = data.drop(to_drp, axis=1, level=None, inplace=False, errors='raise')"
   ]
  },
  {
   "cell_type": "code",
   "execution_count": 234,
   "metadata": {
    "collapsed": true
   },
   "outputs": [],
   "source": [
    "#output modelread file\n",
    "data_clean.to_csv(\"/Users/klarow/Desktop/ComputationalLabs/Project/Data/modelready.csv\",index = False)"
   ]
  },
  {
   "cell_type": "code",
   "execution_count": null,
   "metadata": {
    "collapsed": true
   },
   "outputs": [],
   "source": []
  },
  {
   "cell_type": "markdown",
   "metadata": {},
   "source": [
    "## Test Code"
   ]
  },
  {
   "cell_type": "code",
   "execution_count": 235,
   "metadata": {
    "collapsed": false
   },
   "outputs": [],
   "source": [
    "# cosine_similarities = linear_kernel(tfs[1:2], tfs).flatten()\n",
    "# avgcos = (cosine_similarities.sum()-1)/(len(cosine_similarities)-1)\n",
    "# cosine_similarities\n",
    "# avgcos"
   ]
  },
  {
   "cell_type": "code",
   "execution_count": null,
   "metadata": {
    "collapsed": true
   },
   "outputs": [],
   "source": []
  }
 ],
 "metadata": {
  "anaconda-cloud": {},
  "kernelspec": {
   "display_name": "Python [Root]",
   "language": "python",
   "name": "Python [Root]"
  },
  "language_info": {
   "codemirror_mode": {
    "name": "ipython",
    "version": 3
   },
   "file_extension": ".py",
   "mimetype": "text/x-python",
   "name": "python",
   "nbconvert_exporter": "python",
   "pygments_lexer": "ipython3",
   "version": "3.5.2"
  }
 },
 "nbformat": 4,
 "nbformat_minor": 0
}
